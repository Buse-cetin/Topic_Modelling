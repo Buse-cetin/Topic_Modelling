{
  "cells": [
    {
      "cell_type": "markdown",
      "metadata": {
        "id": "view-in-github",
        "colab_type": "text"
      },
      "source": [
        "<a href=\"https://colab.research.google.com/github/Buse-cetin/Topic_Modelling/blob/main/text_mining.ipynb\" target=\"_parent\"><img src=\"https://colab.research.google.com/assets/colab-badge.svg\" alt=\"Open In Colab\"/></a>"
      ]
    },
    {
      "cell_type": "markdown",
      "source": [
        "Bu çalışma dosyasında tweet çekilmkete, çekilen tweetler emoji, noktlama işaretleri, büyük- küçük harf dönüşümü yapılmaktadır, stopwordslerden temizlenme işlmei yapılmaktadır. Extra olarak az- çok geçen kelimleler bulunmaktadır, kelime frekansaları bulunmaktadır fakat bunları topicleme yaparken olan kodumuza eklemeyecğiz."
      ],
      "metadata": {
        "id": "ZOtgBMVk7nyk"
      }
    },
    {
      "cell_type": "code",
      "execution_count": null,
      "metadata": {
        "id": "3ag6eg63gcqK",
        "colab": {
          "base_uri": "https://localhost:8080/"
        },
        "outputId": "cf573fe2-8f5e-4193-fc42-202a9b44f801"
      },
      "outputs": [
        {
          "output_type": "stream",
          "name": "stdout",
          "text": [
            "Looking in indexes: https://pypi.org/simple, https://us-python.pkg.dev/colab-wheels/public/simple/\n",
            "Collecting snscrape\n",
            "  Downloading snscrape-0.4.3.20220106-py3-none-any.whl (59 kB)\n",
            "\u001b[2K     \u001b[90m━━━━━━━━━━━━━━━━━━━━━━━━━━━━━━━━━━━━━━━━\u001b[0m \u001b[32m59.1/59.1 KB\u001b[0m \u001b[31m3.0 MB/s\u001b[0m eta \u001b[36m0:00:00\u001b[0m\n",
            "\u001b[?25hRequirement already satisfied: pytz in /usr/local/lib/python3.8/dist-packages (from snscrape) (2022.7)\n",
            "Requirement already satisfied: requests[socks] in /usr/local/lib/python3.8/dist-packages (from snscrape) (2.25.1)\n",
            "Requirement already satisfied: lxml in /usr/local/lib/python3.8/dist-packages (from snscrape) (4.9.2)\n",
            "Requirement already satisfied: beautifulsoup4 in /usr/local/lib/python3.8/dist-packages (from snscrape) (4.6.3)\n",
            "Requirement already satisfied: filelock in /usr/local/lib/python3.8/dist-packages (from snscrape) (3.8.2)\n",
            "Requirement already satisfied: idna<3,>=2.5 in /usr/local/lib/python3.8/dist-packages (from requests[socks]->snscrape) (2.10)\n",
            "Requirement already satisfied: chardet<5,>=3.0.2 in /usr/local/lib/python3.8/dist-packages (from requests[socks]->snscrape) (4.0.0)\n",
            "Requirement already satisfied: certifi>=2017.4.17 in /usr/local/lib/python3.8/dist-packages (from requests[socks]->snscrape) (2022.12.7)\n",
            "Requirement already satisfied: urllib3<1.27,>=1.21.1 in /usr/local/lib/python3.8/dist-packages (from requests[socks]->snscrape) (1.24.3)\n",
            "Requirement already satisfied: PySocks!=1.5.7,>=1.5.6 in /usr/local/lib/python3.8/dist-packages (from requests[socks]->snscrape) (1.7.1)\n",
            "Installing collected packages: snscrape\n",
            "Successfully installed snscrape-0.4.3.20220106\n"
          ]
        }
      ],
      "source": [
        "!pip install snscrape\n",
        "import snscrape.modules.twitter as sntwitter\n",
        "import pandas as pd\n",
        "import re,string"
      ]
    },
    {
      "cell_type": "markdown",
      "metadata": {
        "id": "03xoODfXEFNS"
      },
      "source": [
        "Çekilecek Tweet Özelliklerinin Belirlenmesi"
      ]
    },
    {
      "cell_type": "code",
      "execution_count": null,
      "metadata": {
        "id": "2wUu9U1rf6Oz"
      },
      "outputs": [],
      "source": [
        "columns=['tweet','label','hashtag','tweetUrl','like','user','date']\n",
        "data=[]"
      ]
    },
    {
      "cell_type": "markdown",
      "metadata": {
        "id": "_LRvxoKuEI_k"
      },
      "source": [
        "Data Temizleme Kodu"
      ]
    },
    {
      "cell_type": "code",
      "execution_count": null,
      "metadata": {
        "id": "gTBh4OM5gHas"
      },
      "outputs": [],
      "source": [
        "\n",
        "def clean_text(text):\n",
        "    tweet = re.sub(\"@[A-Za-z0-9]+\",\"\",text.lower())\n",
        "    tweet = re.sub(r\"(?:\\@|http?\\://|https?\\://|www)\\S+\", \"\", tweet) \n",
        "    tweet = re.sub(\"</?[a-z]+>\", \"\", tweet) \n",
        "    tweet = re.sub(\"[^\\w\\s]\",\"\",tweet)\n",
        "    tweet = re.sub(\"&\", \"\", tweet) \n",
        "    tweet = re.sub(\"\\d\", \"\", tweet) \n",
        "    tweet = \" \".join(tweet.split())\n",
        "   # tweet = remove_emoji(tweet) \n",
        "    tweet = tweet.replace(\"#\", \"\").replace(\"_\", \" \") \n",
        "    emoji_pattern = re.compile(\"[\"\n",
        "                           u\"\\U0001F600-\\U0001F64F\"  # emoticons\n",
        "                               u\"\\U0001F300-\\U0001F5FF\"  # symbols & pictographs\n",
        "                               u\"\\U0001F680-\\U0001F6FF\"  # transport & map symbols\n",
        "                               u\"\\U0001F1E0-\\U0001F1FF\"  # flags (iOS)\n",
        "                               u\"\\U00002500-\\U00002BEF\"  # chinese char\n",
        "                               u\"\\U00002702-\\U000027B0\"\n",
        "                               u\"\\U00002702-\\U000027B0\"\n",
        "                               u\"\\U000024C2-\\U0001F251\"\n",
        "                               u\"\\U0001f926-\\U0001f937\"\n",
        "                               u\"\\U00010000-\\U0010ffff\"\n",
        "                               u\"\\u2640-\\u2642\"\n",
        "                               u\"\\u2600-\\u2B55\"\n",
        "                               u\"\\u200d\"\n",
        "                               u\"\\u23cf\"\n",
        "                               u\"\\u23e9\"\n",
        "                               u\"\\u231a\"\n",
        "                               u\"\\ufe0f\"  # dingbats\n",
        "                               u\"\\u3030\"\n",
        "                           \"]+\", flags=re.UNICODE)\n",
        "    \n",
        "    return emoji_pattern.sub(r'', tweet)\n",
        "    print(tweet)"
      ]
    },
    {
      "cell_type": "markdown",
      "metadata": {
        "id": "XYq_RaEeEM_V"
      },
      "source": [
        "Tweet Çekme Fonksiyonu"
      ]
    },
    {
      "cell_type": "code",
      "execution_count": null,
      "metadata": {
        "id": "A7iOcWV8gOQ_"
      },
      "outputs": [],
      "source": [
        "def scrap_tweet(hashtag,maxTweet):\n",
        "    count=1\n",
        "    for i,tweet in enumerate(sntwitter.TwitterHashtagScraper('{} + lang:tr'.format(hastag)).get_items()):\n",
        "    #for i,tweet in enumerate(sntwitter.TwitterHashtagScraper('{} + since:2020-01-01 until:2022-03-25 + lang:tr '.format(hastag)).get_items()):\n",
        "    #for i,tweet in enumerate(sntwitter.TwitterSearchScraper('{} lang:tr'.format(hastag)).get_items()):\n",
        "        if i>maxTweet:\n",
        "            break\n",
        "        data.append([clean_text(tweet.content),'',hastag,tweet.url,tweet.likeCount,tweet.user,tweet.date])\n",
        "        \n",
        "        count+=1"
      ]
    },
    {
      "cell_type": "markdown",
      "metadata": {
        "id": "-ETcQp-uEPfU"
      },
      "source": [
        "Tweet çekme"
      ]
    },
    {
      "cell_type": "code",
      "execution_count": null,
      "metadata": {
        "id": "CJRNwnjQJd_J"
      },
      "outputs": [],
      "source": [
        "maxTweets=10000\n",
        "hastag=\"ibbsikayet\",\n",
        "scrap_tweet(hastag,maxTweets)"
      ]
    },
    {
      "cell_type": "code",
      "execution_count": null,
      "metadata": {
        "id": "2DOfDn0sgSoN"
      },
      "outputs": [],
      "source": [
        "maxTweets=10000\n",
        "hastag=\"ibbbeyazmasa\",\n",
        "scrap_tweet(hastag,maxTweets)"
      ]
    },
    {
      "cell_type": "code",
      "execution_count": null,
      "metadata": {
        "id": "1cSiSp40D0Xu"
      },
      "outputs": [],
      "source": [
        "maxTweets=10000\n",
        "hastag=\"ibbulaştırma\",\n",
        "scrap_tweet(hastag,maxTweets)"
      ]
    },
    {
      "cell_type": "code",
      "execution_count": null,
      "metadata": {
        "id": "xHvMdsa8D_n5"
      },
      "outputs": [],
      "source": [
        "maxTweets=10000\n",
        "hastag=\"ibbtrafik\",\n",
        "scrap_tweet(hastag,maxTweets)"
      ]
    },
    {
      "cell_type": "code",
      "execution_count": null,
      "metadata": {
        "id": "BQNZy9AOEEZr"
      },
      "outputs": [],
      "source": [
        "maxTweets=10000\n",
        "hastag=\"ispark\",\n",
        "scrap_tweet(hastag,maxTweets)"
      ]
    },
    {
      "cell_type": "code",
      "execution_count": null,
      "metadata": {
        "id": "VsrvOT9nEGry"
      },
      "outputs": [],
      "source": [
        "maxTweets=10000\n",
        "hastag=\"beyazmasa\",\n",
        "scrap_tweet(hastag,maxTweets)"
      ]
    },
    {
      "cell_type": "code",
      "execution_count": null,
      "metadata": {
        "id": "WO2ZSMAlEJ6E"
      },
      "outputs": [],
      "source": [
        "maxTweets=10000\n",
        "hastag=\"iett\",\n",
        "scrap_tweet(hastag,maxTweets)"
      ]
    },
    {
      "cell_type": "code",
      "execution_count": null,
      "metadata": {
        "id": "j5PbVMnEEM6l"
      },
      "outputs": [],
      "source": [
        "maxTweets=10000\n",
        "hastag=\"ibb_ulasim\",\n",
        "scrap_tweet(hastag,maxTweets)"
      ]
    },
    {
      "cell_type": "code",
      "execution_count": null,
      "metadata": {
        "id": "ZZ-4uxSQEQfv"
      },
      "outputs": [],
      "source": [
        "maxTweets=10000\n",
        "hastag=\"istanbultrafik\",\n",
        "scrap_tweet(hastag,maxTweets)"
      ]
    },
    {
      "cell_type": "code",
      "execution_count": null,
      "metadata": {
        "id": "Bkq9MHC_EUEC"
      },
      "outputs": [],
      "source": [
        "maxTweets=10000\n",
        "hastag=\"istanbul_trafik\",\n",
        "scrap_tweet(hastag,maxTweets)"
      ]
    },
    {
      "cell_type": "code",
      "execution_count": null,
      "metadata": {
        "id": "sTy9I2C9EV4a"
      },
      "outputs": [],
      "source": [
        "maxTweets=10000\n",
        "hastag=\"istanbulsikayet\",\n",
        "scrap_tweet(hastag,maxTweets)"
      ]
    },
    {
      "cell_type": "code",
      "execution_count": null,
      "metadata": {
        "colab": {
          "base_uri": "https://localhost:8080/"
        },
        "id": "H8z1b4tFgu9_",
        "outputId": "f41ae6cb-cdc3-4f5c-865a-4ef55ea130e4"
      },
      "outputs": [
        {
          "output_type": "stream",
          "name": "stdout",
          "text": [
            "                                                   tweet label  \\\n",
            "0      dakikadan fazladır taksi ve iki dksı var görün...         \n",
            "1      olimpiyat cadde üzeri burası pendik buraya ara...         \n",
            "2      parklarda kontrol ve bakımları aksatarak canla...         \n",
            "3      parklarda kontrol ve bakımları aksatarak canla...         \n",
            "4      bugün bir taksici terörüne daha tanık oldumtak...         \n",
            "...                                                  ...   ...   \n",
            "61900                         int çok geçmiş olsun hocam         \n",
            "61901  dün bostancıdan bindiği belediye otobüsü yaşın...         \n",
            "61902   egm merhaba konu hakkında tc kimlik numaranız...         \n",
            "61903  ne biçim bir hizmettir bu dakikada bir kalkan ...         \n",
            "61904  ürün aldım teslim almadımsatıştan gün sonra ip...         \n",
            "\n",
            "                  hashtag                                           tweetUrl  \\\n",
            "0           (ibbsikayet,)  https://twitter.com/HoneysuckleSym/status/1606...   \n",
            "1           (ibbsikayet,)  https://twitter.com/tolga_sarp6/status/1605565...   \n",
            "2           (ibbsikayet,)  https://twitter.com/Ohzman/status/160448612024...   \n",
            "3           (ibbsikayet,)  https://twitter.com/Ohzman/status/160445262903...   \n",
            "4           (ibbsikayet,)  https://twitter.com/NilAr73/status/16001436918...   \n",
            "...                   ...                                                ...   \n",
            "61900  (istanbulsikayet,)  https://twitter.com/rguendogdu/status/15852852...   \n",
            "61901  (istanbulsikayet,)  https://twitter.com/ponganer/status/1585197262...   \n",
            "61902  (istanbulsikayet,)  https://twitter.com/IBBcozummerkezi/status/148...   \n",
            "61903  (istanbulsikayet,)  https://twitter.com/EsmaOzsar/status/131460454...   \n",
            "61904  (istanbulsikayet,)  https://twitter.com/fyukselgezer/status/901483...   \n",
            "\n",
            "       like                                 user                      date  \n",
            "0         3   https://twitter.com/HoneysuckleSym 2022-12-24 10:44:38+00:00  \n",
            "1         0      https://twitter.com/tolga_sarp6 2022-12-21 14:07:01+00:00  \n",
            "2        15           https://twitter.com/Ohzman 2022-12-18 14:37:55+00:00  \n",
            "3         5           https://twitter.com/Ohzman 2022-12-18 12:24:50+00:00  \n",
            "4         3          https://twitter.com/NilAr73 2022-12-06 15:02:40+00:00  \n",
            "...     ...                                  ...                       ...  \n",
            "61900     1       https://twitter.com/rguendogdu 2022-10-26 15:00:32+00:00  \n",
            "61901     3         https://twitter.com/ponganer 2022-10-26 09:10:53+00:00  \n",
            "61902     0  https://twitter.com/IBBcozummerkezi 2022-01-16 17:40:16+00:00  \n",
            "61903     8        https://twitter.com/EsmaOzsar 2020-10-09 16:32:02+00:00  \n",
            "61904     2     https://twitter.com/fyukselgezer 2017-08-26 16:38:06+00:00  \n",
            "\n",
            "[61905 rows x 7 columns]\n"
          ]
        }
      ],
      "source": [
        "d=pd.DataFrame(data,columns=columns)\n",
        "\n",
        "d.drop_duplicates(subset=['tweet'])\n",
        "\n",
        "print(d)\n",
        "\n",
        "d.to_csv('tweek.csv',encoding='utf-8-sig')\n",
        "        "
      ]
    },
    {
      "cell_type": "markdown",
      "metadata": {
        "id": "he2zxYjFPKVd"
      },
      "source": [
        "Stopwords Cleaning"
      ]
    },
    {
      "cell_type": "code",
      "execution_count": null,
      "metadata": {
        "colab": {
          "base_uri": "https://localhost:8080/"
        },
        "id": "ip8Rob01OmRB",
        "outputId": "3653f95c-1c9a-42fc-9879-785c3493d72c"
      },
      "outputs": [
        {
          "output_type": "stream",
          "name": "stdout",
          "text": [
            "Looking in indexes: https://pypi.org/simple, https://us-python.pkg.dev/colab-wheels/public/simple/\n",
            "Collecting advertools\n",
            "  Downloading advertools-0.13.2-py2.py3-none-any.whl (310 kB)\n",
            "\u001b[2K     \u001b[90m━━━━━━━━━━━━━━━━━━━━━━━━━━━━━━━━━━━━━━━\u001b[0m \u001b[32m310.1/310.1 KB\u001b[0m \u001b[31m6.9 MB/s\u001b[0m eta \u001b[36m0:00:00\u001b[0m\n",
            "\u001b[?25hCollecting scrapy>=2.5.0\n",
            "  Downloading Scrapy-2.7.1-py2.py3-none-any.whl (271 kB)\n",
            "\u001b[2K     \u001b[90m━━━━━━━━━━━━━━━━━━━━━━━━━━━━━━━━━━━━━━\u001b[0m \u001b[32m271.5/271.5 KB\u001b[0m \u001b[31m26.4 MB/s\u001b[0m eta \u001b[36m0:00:00\u001b[0m\n",
            "\u001b[?25hRequirement already satisfied: pyarrow>=5.0.0 in /usr/local/lib/python3.8/dist-packages (from advertools) (9.0.0)\n",
            "Requirement already satisfied: pandas>=1.1.0 in /usr/local/lib/python3.8/dist-packages (from advertools) (1.3.5)\n",
            "Requirement already satisfied: pyasn1>=0.4 in /usr/local/lib/python3.8/dist-packages (from advertools) (0.4.8)\n",
            "Collecting twython>=3.8.0\n",
            "  Downloading twython-3.9.1-py3-none-any.whl (33 kB)\n",
            "Requirement already satisfied: pytz>=2017.3 in /usr/local/lib/python3.8/dist-packages (from pandas>=1.1.0->advertools) (2022.7)\n",
            "Requirement already satisfied: python-dateutil>=2.7.3 in /usr/local/lib/python3.8/dist-packages (from pandas>=1.1.0->advertools) (2.8.2)\n",
            "Requirement already satisfied: numpy>=1.17.3 in /usr/local/lib/python3.8/dist-packages (from pandas>=1.1.0->advertools) (1.21.6)\n",
            "Requirement already satisfied: setuptools in /usr/local/lib/python3.8/dist-packages (from scrapy>=2.5.0->advertools) (57.4.0)\n",
            "Collecting PyDispatcher>=2.0.5\n",
            "  Downloading PyDispatcher-2.0.6.tar.gz (38 kB)\n",
            "  Preparing metadata (setup.py) ... \u001b[?25l\u001b[?25hdone\n",
            "Collecting cryptography>=3.3\n",
            "  Downloading cryptography-39.0.0-cp36-abi3-manylinux_2_24_x86_64.whl (4.1 MB)\n",
            "\u001b[2K     \u001b[90m━━━━━━━━━━━━━━━━━━━━━━━━━━━━━━━━━━━━━━━━\u001b[0m \u001b[32m4.1/4.1 MB\u001b[0m \u001b[31m68.1 MB/s\u001b[0m eta \u001b[36m0:00:00\u001b[0m\n",
            "\u001b[?25hCollecting tldextract\n",
            "  Downloading tldextract-3.4.0-py3-none-any.whl (93 kB)\n",
            "\u001b[2K     \u001b[90m━━━━━━━━━━━━━━━━━━━━━━━━━━━━━━━━━━━━━━━━\u001b[0m \u001b[32m93.9/93.9 KB\u001b[0m \u001b[31m12.1 MB/s\u001b[0m eta \u001b[36m0:00:00\u001b[0m\n",
            "\u001b[?25hCollecting protego>=0.1.15\n",
            "  Downloading Protego-0.2.1-py2.py3-none-any.whl (8.2 kB)\n",
            "Collecting service-identity>=18.1.0\n",
            "  Downloading service_identity-21.1.0-py2.py3-none-any.whl (12 kB)\n",
            "Collecting parsel>=1.5.0\n",
            "  Downloading parsel-1.7.0-py2.py3-none-any.whl (14 kB)\n",
            "Collecting w3lib>=1.17.0\n",
            "  Downloading w3lib-2.1.1-py3-none-any.whl (21 kB)\n",
            "Requirement already satisfied: packaging in /usr/local/lib/python3.8/dist-packages (from scrapy>=2.5.0->advertools) (21.3)\n",
            "Collecting itemadapter>=0.1.0\n",
            "  Downloading itemadapter-0.7.0-py3-none-any.whl (10 kB)\n",
            "Requirement already satisfied: lxml>=4.3.0 in /usr/local/lib/python3.8/dist-packages (from scrapy>=2.5.0->advertools) (4.9.2)\n",
            "Collecting Twisted>=18.9.0\n",
            "  Downloading Twisted-22.10.0-py3-none-any.whl (3.1 MB)\n",
            "\u001b[2K     \u001b[90m━━━━━━━━━━━━━━━━━━━━━━━━━━━━━━━━━━━━━━━━\u001b[0m \u001b[32m3.1/3.1 MB\u001b[0m \u001b[31m80.1 MB/s\u001b[0m eta \u001b[36m0:00:00\u001b[0m\n",
            "\u001b[?25hCollecting pyOpenSSL>=21.0.0\n",
            "  Downloading pyOpenSSL-23.0.0-py3-none-any.whl (57 kB)\n",
            "\u001b[2K     \u001b[90m━━━━━━━━━━━━━━━━━━━━━━━━━━━━━━━━━━━━━━━━\u001b[0m \u001b[32m57.3/57.3 KB\u001b[0m \u001b[31m7.6 MB/s\u001b[0m eta \u001b[36m0:00:00\u001b[0m\n",
            "\u001b[?25hCollecting zope.interface>=5.1.0\n",
            "  Downloading zope.interface-5.5.2-cp38-cp38-manylinux_2_5_x86_64.manylinux1_x86_64.manylinux_2_12_x86_64.manylinux2010_x86_64.whl (261 kB)\n",
            "\u001b[2K     \u001b[90m━━━━━━━━━━━━━━━━━━━━━━━━━━━━━━━━━━━━━━\u001b[0m \u001b[32m261.4/261.4 KB\u001b[0m \u001b[31m26.3 MB/s\u001b[0m eta \u001b[36m0:00:00\u001b[0m\n",
            "\u001b[?25hCollecting itemloaders>=1.0.1\n",
            "  Downloading itemloaders-1.0.6-py3-none-any.whl (11 kB)\n",
            "Collecting queuelib>=1.4.2\n",
            "  Downloading queuelib-1.6.2-py2.py3-none-any.whl (13 kB)\n",
            "Collecting cssselect>=0.9.1\n",
            "  Downloading cssselect-1.2.0-py2.py3-none-any.whl (18 kB)\n",
            "Requirement already satisfied: requests-oauthlib>=0.4.0 in /usr/local/lib/python3.8/dist-packages (from twython>=3.8.0->advertools) (1.3.1)\n",
            "Requirement already satisfied: requests>=2.1.0 in /usr/local/lib/python3.8/dist-packages (from twython>=3.8.0->advertools) (2.25.1)\n",
            "Requirement already satisfied: cffi>=1.12 in /usr/local/lib/python3.8/dist-packages (from cryptography>=3.3->scrapy>=2.5.0->advertools) (1.15.1)\n",
            "Collecting jmespath>=0.9.5\n",
            "  Downloading jmespath-1.0.1-py3-none-any.whl (20 kB)\n",
            "Requirement already satisfied: six in /usr/local/lib/python3.8/dist-packages (from protego>=0.1.15->scrapy>=2.5.0->advertools) (1.15.0)\n",
            "Requirement already satisfied: urllib3<1.27,>=1.21.1 in /usr/local/lib/python3.8/dist-packages (from requests>=2.1.0->twython>=3.8.0->advertools) (1.24.3)\n",
            "Requirement already satisfied: chardet<5,>=3.0.2 in /usr/local/lib/python3.8/dist-packages (from requests>=2.1.0->twython>=3.8.0->advertools) (4.0.0)\n",
            "Requirement already satisfied: certifi>=2017.4.17 in /usr/local/lib/python3.8/dist-packages (from requests>=2.1.0->twython>=3.8.0->advertools) (2022.12.7)\n",
            "Requirement already satisfied: idna<3,>=2.5 in /usr/local/lib/python3.8/dist-packages (from requests>=2.1.0->twython>=3.8.0->advertools) (2.10)\n",
            "Requirement already satisfied: oauthlib>=3.0.0 in /usr/local/lib/python3.8/dist-packages (from requests-oauthlib>=0.4.0->twython>=3.8.0->advertools) (3.2.2)\n",
            "Requirement already satisfied: pyasn1-modules in /usr/local/lib/python3.8/dist-packages (from service-identity>=18.1.0->scrapy>=2.5.0->advertools) (0.2.8)\n",
            "Requirement already satisfied: attrs>=19.1.0 in /usr/local/lib/python3.8/dist-packages (from service-identity>=18.1.0->scrapy>=2.5.0->advertools) (22.2.0)\n",
            "Collecting constantly>=15.1\n",
            "  Downloading constantly-15.1.0-py2.py3-none-any.whl (7.9 kB)\n",
            "Collecting hyperlink>=17.1.1\n",
            "  Downloading hyperlink-21.0.0-py2.py3-none-any.whl (74 kB)\n",
            "\u001b[2K     \u001b[90m━━━━━━━━━━━━━━━━━━━━━━━━━━━━━━━━━━━━━━━━\u001b[0m \u001b[32m74.6/74.6 KB\u001b[0m \u001b[31m9.3 MB/s\u001b[0m eta \u001b[36m0:00:00\u001b[0m\n",
            "\u001b[?25hRequirement already satisfied: typing-extensions>=3.6.5 in /usr/local/lib/python3.8/dist-packages (from Twisted>=18.9.0->scrapy>=2.5.0->advertools) (4.4.0)\n",
            "Collecting incremental>=21.3.0\n",
            "  Downloading incremental-22.10.0-py2.py3-none-any.whl (16 kB)\n",
            "Collecting Automat>=0.8.0\n",
            "  Downloading Automat-22.10.0-py2.py3-none-any.whl (26 kB)\n",
            "Requirement already satisfied: pyparsing!=3.0.5,>=2.0.2 in /usr/local/lib/python3.8/dist-packages (from packaging->scrapy>=2.5.0->advertools) (3.0.9)\n",
            "Requirement already satisfied: filelock>=3.0.8 in /usr/local/lib/python3.8/dist-packages (from tldextract->scrapy>=2.5.0->advertools) (3.8.2)\n",
            "Collecting requests-file>=1.4\n",
            "  Downloading requests_file-1.5.1-py2.py3-none-any.whl (3.7 kB)\n",
            "Requirement already satisfied: pycparser in /usr/local/lib/python3.8/dist-packages (from cffi>=1.12->cryptography>=3.3->scrapy>=2.5.0->advertools) (2.21)\n",
            "Building wheels for collected packages: PyDispatcher\n",
            "  Building wheel for PyDispatcher (setup.py) ... \u001b[?25l\u001b[?25hdone\n",
            "  Created wheel for PyDispatcher: filename=PyDispatcher-2.0.6-py3-none-any.whl size=11959 sha256=1da20d11cce8dd327d0c53cdc083cc561e67a54e337eef74c24f79ef75b74e78\n",
            "  Stored in directory: /root/.cache/pip/wheels/dc/b9/4a/948b1176e084b9e3f85e4ffc3d08f817b1fdf0d973bbb94f81\n",
            "Successfully built PyDispatcher\n",
            "Installing collected packages: PyDispatcher, incremental, constantly, zope.interface, w3lib, queuelib, protego, jmespath, itemadapter, hyperlink, cssselect, Automat, Twisted, requests-file, parsel, cryptography, twython, tldextract, service-identity, pyOpenSSL, itemloaders, scrapy, advertools\n",
            "Successfully installed Automat-22.10.0 PyDispatcher-2.0.6 Twisted-22.10.0 advertools-0.13.2 constantly-15.1.0 cryptography-39.0.0 cssselect-1.2.0 hyperlink-21.0.0 incremental-22.10.0 itemadapter-0.7.0 itemloaders-1.0.6 jmespath-1.0.1 parsel-1.7.0 protego-0.2.1 pyOpenSSL-23.0.0 queuelib-1.6.2 requests-file-1.5.1 scrapy-2.7.1 service-identity-21.1.0 tldextract-3.4.0 twython-3.9.1 w3lib-2.1.1 zope.interface-5.5.2\n"
          ]
        },
        {
          "output_type": "stream",
          "name": "stderr",
          "text": [
            "IOPub data rate exceeded.\n",
            "The notebook server will temporarily stop sending output\n",
            "to the client in order to avoid crashing it.\n",
            "To change this limit, set the config variable\n",
            "`--NotebookApp.iopub_data_rate_limit`.\n",
            "\n",
            "Current values:\n",
            "NotebookApp.iopub_data_rate_limit=1000000.0 (bytes/sec)\n",
            "NotebookApp.rate_limit_window=3.0 (secs)\n",
            "\n"
          ]
        }
      ],
      "source": [
        "# Advertools kütüphanesini indirmek, yüklemek için\n",
        "!pip install advertools\n",
        "import advertools as adv\n",
        "# Türkçe duraklama kellimelerini değişkene atamak için\n",
        "stopwords = sorted(adv.stopwords['turkish'])[:]\n",
        "#print(diger_duraklama_kelimeleri )\n",
        "tweet = d[\"tweet\"].apply(lambda x: \" \".join(x for x in x.split() if x not in stopwords))\n",
        "\n",
        "\n",
        "tweet.to_csv('stop_clean.csv')\n",
        "print(data)"
      ]
    },
    {
      "cell_type": "markdown",
      "source": [
        "EXTRALAR"
      ],
      "metadata": {
        "id": "R11T2kvo7Oru"
      }
    },
    {
      "cell_type": "markdown",
      "metadata": {
        "id": "QXubmzT0Q5tr"
      },
      "source": [
        "Az Geçen Kelimelerin Çıkartılması"
      ]
    },
    {
      "cell_type": "code",
      "execution_count": null,
      "metadata": {
        "colab": {
          "base_uri": "https://localhost:8080/"
        },
        "id": "v_5PHnc3Q5aq",
        "outputId": "26f7cfdb-e9fd-4a5c-99f9-282d054f9203"
      },
      "outputs": [
        {
          "output_type": "stream",
          "name": "stdout",
          "text": [
            "kidevlet                          1\n",
            "becereksizlik                     1\n",
            "siyircam                          1\n",
            "degisiyo                          1\n",
            "buluniett                         1\n",
            "aldıolay                          1\n",
            "realet                            1\n",
            "sandığım                          1\n",
            "cümlesine                         1\n",
            "şoförüsünüz                       1\n",
            "ettisiz                           1\n",
            "yükseltmeyebağırmayaazarlamaya    1\n",
            "döneceklerini                     1\n",
            "basmadığımı                       1\n",
            "etmiyorlarne                      1\n",
            "dtype: int64\n"
          ]
        }
      ],
      "source": [
        "d = pd.DataFrame(d, columns = [\"tweet\"])\n",
        "pd.Series(\" \".join(d[\"tweet\"]).split()).value_counts()\n",
        " \n",
        "# En az geçen kelimeleri sıraladıktan sonra, listenin en sonundaki 3 kelimeyi kendi isteğimze göre çıkardık.\n",
        "az_gecenler = pd.Series(\" \".join(d[\"tweet\"]).split()).value_counts()[-15:]\n",
        "az_gecenler.to_csv('az_gecen.csv')\n",
        "print(az_gecenler)"
      ]
    },
    {
      "cell_type": "markdown",
      "metadata": {
        "id": "h4LOvJK-SPq4"
      },
      "source": [
        "İstenmeyen Kelimelerin Çıkartılması"
      ]
    },
    {
      "cell_type": "code",
      "execution_count": null,
      "metadata": {
        "colab": {
          "base_uri": "https://localhost:8080/"
        },
        "id": "__s_ja2ISPdE",
        "outputId": "3c50f080-5349-492d-888c-94500dba0b08"
      },
      "outputs": [
        {
          "output_type": "stream",
          "name": "stdout",
          "text": [
            "0        dakikadan fazladır taksi dksı görünen otobüsü ...\n",
            "1        olimpiyat cadde üzeri pendik buraya araç park ...\n",
            "2        parklarda kontrol bakımları aksatarak canlarla...\n",
            "3        parklarda kontrol bakımları aksatarak canlarla...\n",
            "4        bugün bir taksici terörüne tanık oldumtaksici ...\n",
            "                               ...                        \n",
            "61900                                     int geçmiş hocam\n",
            "61901    dün bostancıdan bindiği belediye otobüsü yaşın...\n",
            "61902    egm merhaba konu hakkında tc kimlik numaranızı...\n",
            "61903    biçim bir hizmettir dakikada bir kalkan otobüs...\n",
            "61904    ürün aldım teslim almadımsatıştan gün iptal ma...\n",
            "Name: tweet, Length: 61905, dtype: object\n"
          ]
        }
      ],
      "source": [
        "unwanted_data= [ \"pkk\",\"imamoglu\",\"akp\",\"chp\",\"terör\",\"izmir\",\"iki\",\"ibb\",\"ibbsikayet\"] \n",
        "d = pd.DataFrame(d, columns = [\"tweet\"])\n",
        "# Tercihe bağlı olarak oluşturulan istenmeyen kelimeleri attık.\n",
        "\n",
        "tweet = d[\"tweet\"].apply(lambda x: \" \".join(x for x in x.split() if x not in stopwords))\n",
        "unwanted= tweet.apply(lambda x: \" \".join(x for x in x.split() if x not in unwanted_data))\n",
        "unwanted.to_csv('unwanted_clean.csv')\n",
        "print(unwanted)"
      ]
    },
    {
      "cell_type": "code",
      "execution_count": null,
      "metadata": {
        "colab": {
          "base_uri": "https://localhost:8080/",
          "height": 424
        },
        "id": "Oq65rWKXhPhA",
        "outputId": "2d4e6f28-2319-4643-e44c-a7e4ffe6278e"
      },
      "outputs": [
        {
          "output_type": "execute_result",
          "data": {
            "text/plain": [
              "       Unnamed: 0                                              tweet\n",
              "0               0  dakikadan fazladır taksi dksı görünen otobüsü ...\n",
              "1               1  olimpiyat cadde üzeri pendik buraya araç park ...\n",
              "2               2  parklarda kontrol bakımları aksatarak canlarla...\n",
              "3               3  parklarda kontrol bakımları aksatarak canlarla...\n",
              "4               4  bugün bir taksici terörüne tanık oldumtaksici ...\n",
              "...           ...                                                ...\n",
              "29995       29995  bostancıdaki tavacı recepin önündeki görevlisi...\n",
              "29996       29996  genertion seçim öncesi isparkta lılar çalıştır...\n",
              "29997       29997                     ihracatta güzel üretim patladı\n",
              "29998       29998  şikayet ederiz bugün teşekkür edelim gülümseye...\n",
              "29999       29999  koyduğun fotoyla isyan ediyorsun istanbulu gör...\n",
              "\n",
              "[30000 rows x 2 columns]"
            ],
            "text/html": [
              "\n",
              "  <div id=\"df-d20df212-6eb0-4cdf-8d6c-1861abc75562\">\n",
              "    <div class=\"colab-df-container\">\n",
              "      <div>\n",
              "<style scoped>\n",
              "    .dataframe tbody tr th:only-of-type {\n",
              "        vertical-align: middle;\n",
              "    }\n",
              "\n",
              "    .dataframe tbody tr th {\n",
              "        vertical-align: top;\n",
              "    }\n",
              "\n",
              "    .dataframe thead th {\n",
              "        text-align: right;\n",
              "    }\n",
              "</style>\n",
              "<table border=\"1\" class=\"dataframe\">\n",
              "  <thead>\n",
              "    <tr style=\"text-align: right;\">\n",
              "      <th></th>\n",
              "      <th>Unnamed: 0</th>\n",
              "      <th>tweet</th>\n",
              "    </tr>\n",
              "  </thead>\n",
              "  <tbody>\n",
              "    <tr>\n",
              "      <th>0</th>\n",
              "      <td>0</td>\n",
              "      <td>dakikadan fazladır taksi dksı görünen otobüsü ...</td>\n",
              "    </tr>\n",
              "    <tr>\n",
              "      <th>1</th>\n",
              "      <td>1</td>\n",
              "      <td>olimpiyat cadde üzeri pendik buraya araç park ...</td>\n",
              "    </tr>\n",
              "    <tr>\n",
              "      <th>2</th>\n",
              "      <td>2</td>\n",
              "      <td>parklarda kontrol bakımları aksatarak canlarla...</td>\n",
              "    </tr>\n",
              "    <tr>\n",
              "      <th>3</th>\n",
              "      <td>3</td>\n",
              "      <td>parklarda kontrol bakımları aksatarak canlarla...</td>\n",
              "    </tr>\n",
              "    <tr>\n",
              "      <th>4</th>\n",
              "      <td>4</td>\n",
              "      <td>bugün bir taksici terörüne tanık oldumtaksici ...</td>\n",
              "    </tr>\n",
              "    <tr>\n",
              "      <th>...</th>\n",
              "      <td>...</td>\n",
              "      <td>...</td>\n",
              "    </tr>\n",
              "    <tr>\n",
              "      <th>29995</th>\n",
              "      <td>29995</td>\n",
              "      <td>bostancıdaki tavacı recepin önündeki görevlisi...</td>\n",
              "    </tr>\n",
              "    <tr>\n",
              "      <th>29996</th>\n",
              "      <td>29996</td>\n",
              "      <td>genertion seçim öncesi isparkta lılar çalıştır...</td>\n",
              "    </tr>\n",
              "    <tr>\n",
              "      <th>29997</th>\n",
              "      <td>29997</td>\n",
              "      <td>ihracatta güzel üretim patladı</td>\n",
              "    </tr>\n",
              "    <tr>\n",
              "      <th>29998</th>\n",
              "      <td>29998</td>\n",
              "      <td>şikayet ederiz bugün teşekkür edelim gülümseye...</td>\n",
              "    </tr>\n",
              "    <tr>\n",
              "      <th>29999</th>\n",
              "      <td>29999</td>\n",
              "      <td>koyduğun fotoyla isyan ediyorsun istanbulu gör...</td>\n",
              "    </tr>\n",
              "  </tbody>\n",
              "</table>\n",
              "<p>30000 rows × 2 columns</p>\n",
              "</div>\n",
              "      <button class=\"colab-df-convert\" onclick=\"convertToInteractive('df-d20df212-6eb0-4cdf-8d6c-1861abc75562')\"\n",
              "              title=\"Convert this dataframe to an interactive table.\"\n",
              "              style=\"display:none;\">\n",
              "        \n",
              "  <svg xmlns=\"http://www.w3.org/2000/svg\" height=\"24px\"viewBox=\"0 0 24 24\"\n",
              "       width=\"24px\">\n",
              "    <path d=\"M0 0h24v24H0V0z\" fill=\"none\"/>\n",
              "    <path d=\"M18.56 5.44l.94 2.06.94-2.06 2.06-.94-2.06-.94-.94-2.06-.94 2.06-2.06.94zm-11 1L8.5 8.5l.94-2.06 2.06-.94-2.06-.94L8.5 2.5l-.94 2.06-2.06.94zm10 10l.94 2.06.94-2.06 2.06-.94-2.06-.94-.94-2.06-.94 2.06-2.06.94z\"/><path d=\"M17.41 7.96l-1.37-1.37c-.4-.4-.92-.59-1.43-.59-.52 0-1.04.2-1.43.59L10.3 9.45l-7.72 7.72c-.78.78-.78 2.05 0 2.83L4 21.41c.39.39.9.59 1.41.59.51 0 1.02-.2 1.41-.59l7.78-7.78 2.81-2.81c.8-.78.8-2.07 0-2.86zM5.41 20L4 18.59l7.72-7.72 1.47 1.35L5.41 20z\"/>\n",
              "  </svg>\n",
              "      </button>\n",
              "      \n",
              "  <style>\n",
              "    .colab-df-container {\n",
              "      display:flex;\n",
              "      flex-wrap:wrap;\n",
              "      gap: 12px;\n",
              "    }\n",
              "\n",
              "    .colab-df-convert {\n",
              "      background-color: #E8F0FE;\n",
              "      border: none;\n",
              "      border-radius: 50%;\n",
              "      cursor: pointer;\n",
              "      display: none;\n",
              "      fill: #1967D2;\n",
              "      height: 32px;\n",
              "      padding: 0 0 0 0;\n",
              "      width: 32px;\n",
              "    }\n",
              "\n",
              "    .colab-df-convert:hover {\n",
              "      background-color: #E2EBFA;\n",
              "      box-shadow: 0px 1px 2px rgba(60, 64, 67, 0.3), 0px 1px 3px 1px rgba(60, 64, 67, 0.15);\n",
              "      fill: #174EA6;\n",
              "    }\n",
              "\n",
              "    [theme=dark] .colab-df-convert {\n",
              "      background-color: #3B4455;\n",
              "      fill: #D2E3FC;\n",
              "    }\n",
              "\n",
              "    [theme=dark] .colab-df-convert:hover {\n",
              "      background-color: #434B5C;\n",
              "      box-shadow: 0px 1px 3px 1px rgba(0, 0, 0, 0.15);\n",
              "      filter: drop-shadow(0px 1px 2px rgba(0, 0, 0, 0.3));\n",
              "      fill: #FFFFFF;\n",
              "    }\n",
              "  </style>\n",
              "\n",
              "      <script>\n",
              "        const buttonEl =\n",
              "          document.querySelector('#df-d20df212-6eb0-4cdf-8d6c-1861abc75562 button.colab-df-convert');\n",
              "        buttonEl.style.display =\n",
              "          google.colab.kernel.accessAllowed ? 'block' : 'none';\n",
              "\n",
              "        async function convertToInteractive(key) {\n",
              "          const element = document.querySelector('#df-d20df212-6eb0-4cdf-8d6c-1861abc75562');\n",
              "          const dataTable =\n",
              "            await google.colab.kernel.invokeFunction('convertToInteractive',\n",
              "                                                     [key], {});\n",
              "          if (!dataTable) return;\n",
              "\n",
              "          const docLinkHtml = 'Like what you see? Visit the ' +\n",
              "            '<a target=\"_blank\" href=https://colab.research.google.com/notebooks/data_table.ipynb>data table notebook</a>'\n",
              "            + ' to learn more about interactive tables.';\n",
              "          element.innerHTML = '';\n",
              "          dataTable['output_type'] = 'display_data';\n",
              "          await google.colab.output.renderOutput(dataTable, element);\n",
              "          const docLink = document.createElement('div');\n",
              "          docLink.innerHTML = docLinkHtml;\n",
              "          element.appendChild(docLink);\n",
              "        }\n",
              "      </script>\n",
              "    </div>\n",
              "  </div>\n",
              "  "
            ]
          },
          "metadata": {},
          "execution_count": 47
        }
      ],
      "source": [
        "da=pd.read_csv('unwanted_clean.csv')\n",
        "pd.options.display.max_columns=20\n",
        "da.head(30000)"
      ]
    },
    {
      "cell_type": "markdown",
      "metadata": {
        "id": "FYTZ2pf1njHl"
      },
      "source": [
        "Kelime Frekansları"
      ]
    },
    {
      "cell_type": "code",
      "execution_count": null,
      "metadata": {
        "id": "mcz0gpS3ni06"
      },
      "outputs": [],
      "source": [
        "freq_df =unwanted.apply(lambda x: pd.value_counts(x.split(\" \"))).sum(axis=0).reset_index()"
      ]
    },
    {
      "cell_type": "code",
      "execution_count": null,
      "metadata": {
        "id": "6BLoTiKOrS8w"
      },
      "outputs": [],
      "source": [
        "freq_df.columns = [\"kelimeler\",\"frekanslar\"]"
      ]
    },
    {
      "cell_type": "code",
      "execution_count": null,
      "metadata": {
        "id": "cqoqNIHFrhrs"
      },
      "outputs": [],
      "source": [
        "print(freq_df)"
      ]
    },
    {
      "cell_type": "markdown",
      "metadata": {
        "id": "WEHqEjMwr_Tj"
      },
      "source": [
        "Gözlem Sayısı"
      ]
    },
    {
      "cell_type": "code",
      "execution_count": null,
      "metadata": {
        "colab": {
          "base_uri": "https://localhost:8080/"
        },
        "id": "MaMst5_Sr0Ma",
        "outputId": "38dc571b-feaa-4633-9494-5d0f788f9828"
      },
      "outputs": [
        {
          "data": {
            "text/plain": [
              "(1056, 2)"
            ]
          },
          "execution_count": 18,
          "metadata": {},
          "output_type": "execute_result"
        }
      ],
      "source": [
        "freq_df.shape"
      ]
    },
    {
      "cell_type": "markdown",
      "metadata": {
        "id": "BHQ7KfZJr9Ai"
      },
      "source": [
        "Ortalamadan Yüksek Olan Kelimelere Bakıyotuz"
      ]
    },
    {
      "cell_type": "code",
      "execution_count": null,
      "metadata": {
        "colab": {
          "base_uri": "https://localhost:8080/",
          "height": 1000
        },
        "id": "Qy6kTfgFsOrL",
        "outputId": "b9cc5aca-5157-4cff-849d-313c50e276e6"
      },
      "outputs": [
        {
          "data": {
            "text/html": [
              "\n",
              "  <div id=\"df-ccbb91a5-7757-460a-8c5c-61d8126f2f32\">\n",
              "    <div class=\"colab-df-container\">\n",
              "      <div>\n",
              "<style scoped>\n",
              "    .dataframe tbody tr th:only-of-type {\n",
              "        vertical-align: middle;\n",
              "    }\n",
              "\n",
              "    .dataframe tbody tr th {\n",
              "        vertical-align: top;\n",
              "    }\n",
              "\n",
              "    .dataframe thead th {\n",
              "        text-align: right;\n",
              "    }\n",
              "</style>\n",
              "<table border=\"1\" class=\"dataframe\">\n",
              "  <thead>\n",
              "    <tr style=\"text-align: right;\">\n",
              "      <th></th>\n",
              "      <th>kelimeler</th>\n",
              "      <th>frekanslar</th>\n",
              "    </tr>\n",
              "  </thead>\n",
              "  <tbody>\n",
              "    <tr>\n",
              "      <th>0</th>\n",
              "      <td>taksi</td>\n",
              "      <td>3.0</td>\n",
              "    </tr>\n",
              "    <tr>\n",
              "      <th>5</th>\n",
              "      <td>otobüsü</td>\n",
              "      <td>7.0</td>\n",
              "    </tr>\n",
              "    <tr>\n",
              "      <th>13</th>\n",
              "      <td>ibbşikayet</td>\n",
              "      <td>31.0</td>\n",
              "    </tr>\n",
              "    <tr>\n",
              "      <th>14</th>\n",
              "      <td>araç</td>\n",
              "      <td>5.0</td>\n",
              "    </tr>\n",
              "    <tr>\n",
              "      <th>15</th>\n",
              "      <td>park</td>\n",
              "      <td>5.0</td>\n",
              "    </tr>\n",
              "    <tr>\n",
              "      <th>16</th>\n",
              "      <td>zaman</td>\n",
              "      <td>5.0</td>\n",
              "    </tr>\n",
              "    <tr>\n",
              "      <th>18</th>\n",
              "      <td>şekilde</td>\n",
              "      <td>5.0</td>\n",
              "    </tr>\n",
              "    <tr>\n",
              "      <th>25</th>\n",
              "      <td>cadde</td>\n",
              "      <td>3.0</td>\n",
              "    </tr>\n",
              "    <tr>\n",
              "      <th>42</th>\n",
              "      <td>bir</td>\n",
              "      <td>34.0</td>\n",
              "    </tr>\n",
              "    <tr>\n",
              "      <th>66</th>\n",
              "      <td>akşam</td>\n",
              "      <td>3.0</td>\n",
              "    </tr>\n",
              "    <tr>\n",
              "      <th>68</th>\n",
              "      <td>ibbbeyazmasa</td>\n",
              "      <td>4.0</td>\n",
              "    </tr>\n",
              "    <tr>\n",
              "      <th>79</th>\n",
              "      <td>duyun</td>\n",
              "      <td>3.0</td>\n",
              "    </tr>\n",
              "    <tr>\n",
              "      <th>82</th>\n",
              "      <td>insan</td>\n",
              "      <td>3.0</td>\n",
              "    </tr>\n",
              "    <tr>\n",
              "      <th>85</th>\n",
              "      <td>ekremimamoglu</td>\n",
              "      <td>3.0</td>\n",
              "    </tr>\n",
              "    <tr>\n",
              "      <th>89</th>\n",
              "      <td>insanlar</td>\n",
              "      <td>3.0</td>\n",
              "    </tr>\n",
              "    <tr>\n",
              "      <th>96</th>\n",
              "      <td>gitti</td>\n",
              "      <td>3.0</td>\n",
              "    </tr>\n",
              "    <tr>\n",
              "      <th>116</th>\n",
              "      <td>hayır</td>\n",
              "      <td>3.0</td>\n",
              "    </tr>\n",
              "    <tr>\n",
              "      <th>123</th>\n",
              "      <td>istanbul</td>\n",
              "      <td>5.0</td>\n",
              "    </tr>\n",
              "    <tr>\n",
              "      <th>127</th>\n",
              "      <td>nedir</td>\n",
              "      <td>4.0</td>\n",
              "    </tr>\n",
              "    <tr>\n",
              "      <th>131</th>\n",
              "      <td>yol</td>\n",
              "      <td>4.0</td>\n",
              "    </tr>\n",
              "    <tr>\n",
              "      <th>153</th>\n",
              "      <td>allah</td>\n",
              "      <td>4.0</td>\n",
              "    </tr>\n",
              "    <tr>\n",
              "      <th>167</th>\n",
              "      <td>şikayet</td>\n",
              "      <td>5.0</td>\n",
              "    </tr>\n",
              "    <tr>\n",
              "      <th>196</th>\n",
              "      <td>zor</td>\n",
              "      <td>4.0</td>\n",
              "    </tr>\n",
              "    <tr>\n",
              "      <th>198</th>\n",
              "      <td>yaya</td>\n",
              "      <td>3.0</td>\n",
              "    </tr>\n",
              "    <tr>\n",
              "      <th>202</th>\n",
              "      <td>trafik</td>\n",
              "      <td>4.0</td>\n",
              "    </tr>\n",
              "    <tr>\n",
              "      <th>222</th>\n",
              "      <td>saat</td>\n",
              "      <td>10.0</td>\n",
              "    </tr>\n",
              "    <tr>\n",
              "      <th>224</th>\n",
              "      <td>iett</td>\n",
              "      <td>3.0</td>\n",
              "    </tr>\n",
              "    <tr>\n",
              "      <th>231</th>\n",
              "      <td>çözüm</td>\n",
              "      <td>5.0</td>\n",
              "    </tr>\n",
              "    <tr>\n",
              "      <th>233</th>\n",
              "      <td>belediyesi</td>\n",
              "      <td>3.0</td>\n",
              "    </tr>\n",
              "    <tr>\n",
              "      <th>242</th>\n",
              "      <td>açık</td>\n",
              "      <td>3.0</td>\n",
              "    </tr>\n",
              "    <tr>\n",
              "      <th>248</th>\n",
              "      <td>dün</td>\n",
              "      <td>3.0</td>\n",
              "    </tr>\n",
              "    <tr>\n",
              "      <th>289</th>\n",
              "      <td>st</td>\n",
              "      <td>7.0</td>\n",
              "    </tr>\n",
              "    <tr>\n",
              "      <th>290</th>\n",
              "      <td>topkapı</td>\n",
              "      <td>3.0</td>\n",
              "    </tr>\n",
              "    <tr>\n",
              "      <th>312</th>\n",
              "      <td>aynı</td>\n",
              "      <td>3.0</td>\n",
              "    </tr>\n",
              "    <tr>\n",
              "      <th>323</th>\n",
              "      <td>otobüs</td>\n",
              "      <td>9.0</td>\n",
              "    </tr>\n",
              "    <tr>\n",
              "      <th>325</th>\n",
              "      <td>sabah</td>\n",
              "      <td>3.0</td>\n",
              "    </tr>\n",
              "    <tr>\n",
              "      <th>333</th>\n",
              "      <td>yoğun</td>\n",
              "      <td>3.0</td>\n",
              "    </tr>\n",
              "    <tr>\n",
              "      <th>357</th>\n",
              "      <td>beyazmasa</td>\n",
              "      <td>4.0</td>\n",
              "    </tr>\n",
              "    <tr>\n",
              "      <th>368</th>\n",
              "      <td>yolcu</td>\n",
              "      <td>4.0</td>\n",
              "    </tr>\n",
              "    <tr>\n",
              "      <th>377</th>\n",
              "      <td>su</td>\n",
              "      <td>4.0</td>\n",
              "    </tr>\n",
              "    <tr>\n",
              "      <th>392</th>\n",
              "      <td>durakta</td>\n",
              "      <td>3.0</td>\n",
              "    </tr>\n",
              "    <tr>\n",
              "      <th>405</th>\n",
              "      <td>kağıthane</td>\n",
              "      <td>3.0</td>\n",
              "    </tr>\n",
              "    <tr>\n",
              "      <th>411</th>\n",
              "      <td>bekliyorum</td>\n",
              "      <td>3.0</td>\n",
              "    </tr>\n",
              "    <tr>\n",
              "      <th>415</th>\n",
              "      <td>plakalı</td>\n",
              "      <td>3.0</td>\n",
              "    </tr>\n",
              "    <tr>\n",
              "      <th>417</th>\n",
              "      <td>tarihinde</td>\n",
              "      <td>3.0</td>\n",
              "    </tr>\n",
              "    <tr>\n",
              "      <th>499</th>\n",
              "      <td>bi</td>\n",
              "      <td>4.0</td>\n",
              "    </tr>\n",
              "    <tr>\n",
              "      <th>531</th>\n",
              "      <td>taksim</td>\n",
              "      <td>4.0</td>\n",
              "    </tr>\n",
              "    <tr>\n",
              "      <th>603</th>\n",
              "      <td>tl</td>\n",
              "      <td>3.0</td>\n",
              "    </tr>\n",
              "    <tr>\n",
              "      <th>685</th>\n",
              "      <td>cevap</td>\n",
              "      <td>5.0</td>\n",
              "    </tr>\n",
              "    <tr>\n",
              "      <th>731</th>\n",
              "      <td>güzel</td>\n",
              "      <td>3.0</td>\n",
              "    </tr>\n",
              "    <tr>\n",
              "      <th>741</th>\n",
              "      <td>demeye</td>\n",
              "      <td>5.0</td>\n",
              "    </tr>\n",
              "    <tr>\n",
              "      <th>743</th>\n",
              "      <td>otopark</td>\n",
              "      <td>3.0</td>\n",
              "    </tr>\n",
              "    <tr>\n",
              "      <th>764</th>\n",
              "      <td>orman</td>\n",
              "      <td>3.0</td>\n",
              "    </tr>\n",
              "    <tr>\n",
              "      <th>836</th>\n",
              "      <td>teşekkürler</td>\n",
              "      <td>3.0</td>\n",
              "    </tr>\n",
              "    <tr>\n",
              "      <th>919</th>\n",
              "      <td>dedi</td>\n",
              "      <td>8.0</td>\n",
              "    </tr>\n",
              "    <tr>\n",
              "      <th>978</th>\n",
              "      <td>darısı</td>\n",
              "      <td>3.0</td>\n",
              "    </tr>\n",
              "    <tr>\n",
              "      <th>980</th>\n",
              "      <td>başına</td>\n",
              "      <td>3.0</td>\n",
              "    </tr>\n",
              "  </tbody>\n",
              "</table>\n",
              "</div>\n",
              "      <button class=\"colab-df-convert\" onclick=\"convertToInteractive('df-ccbb91a5-7757-460a-8c5c-61d8126f2f32')\"\n",
              "              title=\"Convert this dataframe to an interactive table.\"\n",
              "              style=\"display:none;\">\n",
              "        \n",
              "  <svg xmlns=\"http://www.w3.org/2000/svg\" height=\"24px\"viewBox=\"0 0 24 24\"\n",
              "       width=\"24px\">\n",
              "    <path d=\"M0 0h24v24H0V0z\" fill=\"none\"/>\n",
              "    <path d=\"M18.56 5.44l.94 2.06.94-2.06 2.06-.94-2.06-.94-.94-2.06-.94 2.06-2.06.94zm-11 1L8.5 8.5l.94-2.06 2.06-.94-2.06-.94L8.5 2.5l-.94 2.06-2.06.94zm10 10l.94 2.06.94-2.06 2.06-.94-2.06-.94-.94-2.06-.94 2.06-2.06.94z\"/><path d=\"M17.41 7.96l-1.37-1.37c-.4-.4-.92-.59-1.43-.59-.52 0-1.04.2-1.43.59L10.3 9.45l-7.72 7.72c-.78.78-.78 2.05 0 2.83L4 21.41c.39.39.9.59 1.41.59.51 0 1.02-.2 1.41-.59l7.78-7.78 2.81-2.81c.8-.78.8-2.07 0-2.86zM5.41 20L4 18.59l7.72-7.72 1.47 1.35L5.41 20z\"/>\n",
              "  </svg>\n",
              "      </button>\n",
              "      \n",
              "  <style>\n",
              "    .colab-df-container {\n",
              "      display:flex;\n",
              "      flex-wrap:wrap;\n",
              "      gap: 12px;\n",
              "    }\n",
              "\n",
              "    .colab-df-convert {\n",
              "      background-color: #E8F0FE;\n",
              "      border: none;\n",
              "      border-radius: 50%;\n",
              "      cursor: pointer;\n",
              "      display: none;\n",
              "      fill: #1967D2;\n",
              "      height: 32px;\n",
              "      padding: 0 0 0 0;\n",
              "      width: 32px;\n",
              "    }\n",
              "\n",
              "    .colab-df-convert:hover {\n",
              "      background-color: #E2EBFA;\n",
              "      box-shadow: 0px 1px 2px rgba(60, 64, 67, 0.3), 0px 1px 3px 1px rgba(60, 64, 67, 0.15);\n",
              "      fill: #174EA6;\n",
              "    }\n",
              "\n",
              "    [theme=dark] .colab-df-convert {\n",
              "      background-color: #3B4455;\n",
              "      fill: #D2E3FC;\n",
              "    }\n",
              "\n",
              "    [theme=dark] .colab-df-convert:hover {\n",
              "      background-color: #434B5C;\n",
              "      box-shadow: 0px 1px 3px 1px rgba(0, 0, 0, 0.15);\n",
              "      filter: drop-shadow(0px 1px 2px rgba(0, 0, 0, 0.3));\n",
              "      fill: #FFFFFF;\n",
              "    }\n",
              "  </style>\n",
              "\n",
              "      <script>\n",
              "        const buttonEl =\n",
              "          document.querySelector('#df-ccbb91a5-7757-460a-8c5c-61d8126f2f32 button.colab-df-convert');\n",
              "        buttonEl.style.display =\n",
              "          google.colab.kernel.accessAllowed ? 'block' : 'none';\n",
              "\n",
              "        async function convertToInteractive(key) {\n",
              "          const element = document.querySelector('#df-ccbb91a5-7757-460a-8c5c-61d8126f2f32');\n",
              "          const dataTable =\n",
              "            await google.colab.kernel.invokeFunction('convertToInteractive',\n",
              "                                                     [key], {});\n",
              "          if (!dataTable) return;\n",
              "\n",
              "          const docLinkHtml = 'Like what you see? Visit the ' +\n",
              "            '<a target=\"_blank\" href=https://colab.research.google.com/notebooks/data_table.ipynb>data table notebook</a>'\n",
              "            + ' to learn more about interactive tables.';\n",
              "          element.innerHTML = '';\n",
              "          dataTable['output_type'] = 'display_data';\n",
              "          await google.colab.output.renderOutput(dataTable, element);\n",
              "          const docLink = document.createElement('div');\n",
              "          docLink.innerHTML = docLinkHtml;\n",
              "          element.appendChild(docLink);\n",
              "        }\n",
              "      </script>\n",
              "    </div>\n",
              "  </div>\n",
              "  "
            ],
            "text/plain": [
              "         kelimeler  frekanslar\n",
              "0            taksi         3.0\n",
              "5          otobüsü         7.0\n",
              "13      ibbşikayet        31.0\n",
              "14            araç         5.0\n",
              "15            park         5.0\n",
              "16           zaman         5.0\n",
              "18         şekilde         5.0\n",
              "25           cadde         3.0\n",
              "42             bir        34.0\n",
              "66           akşam         3.0\n",
              "68    ibbbeyazmasa         4.0\n",
              "79           duyun         3.0\n",
              "82           insan         3.0\n",
              "85   ekremimamoglu         3.0\n",
              "89        insanlar         3.0\n",
              "96           gitti         3.0\n",
              "116          hayır         3.0\n",
              "123       istanbul         5.0\n",
              "127          nedir         4.0\n",
              "131            yol         4.0\n",
              "153          allah         4.0\n",
              "167        şikayet         5.0\n",
              "196            zor         4.0\n",
              "198           yaya         3.0\n",
              "202         trafik         4.0\n",
              "222           saat        10.0\n",
              "224           iett         3.0\n",
              "231          çözüm         5.0\n",
              "233     belediyesi         3.0\n",
              "242           açık         3.0\n",
              "248            dün         3.0\n",
              "289             st         7.0\n",
              "290        topkapı         3.0\n",
              "312           aynı         3.0\n",
              "323         otobüs         9.0\n",
              "325          sabah         3.0\n",
              "333          yoğun         3.0\n",
              "357      beyazmasa         4.0\n",
              "368          yolcu         4.0\n",
              "377             su         4.0\n",
              "392        durakta         3.0\n",
              "405      kağıthane         3.0\n",
              "411     bekliyorum         3.0\n",
              "415        plakalı         3.0\n",
              "417      tarihinde         3.0\n",
              "499             bi         4.0\n",
              "531         taksim         4.0\n",
              "603             tl         3.0\n",
              "685          cevap         5.0\n",
              "731          güzel         3.0\n",
              "741         demeye         5.0\n",
              "743        otopark         3.0\n",
              "764          orman         3.0\n",
              "836    teşekkürler         3.0\n",
              "919           dedi         8.0\n",
              "978         darısı         3.0\n",
              "980         başına         3.0"
            ]
          },
          "execution_count": 19,
          "metadata": {},
          "output_type": "execute_result"
        }
      ],
      "source": [
        "freq_df[freq_df.frekanslar > freq_df.frekanslar.mean() + freq_df.frekanslar.std()]"
      ]
    },
    {
      "cell_type": "markdown",
      "metadata": {
        "id": "7f1JAHwJrpt5"
      },
      "source": []
    },
    {
      "cell_type": "markdown",
      "metadata": {
        "id": "QlVu0nKstPPc"
      },
      "source": [
        "Plotbar İle Görselleştirme"
      ]
    },
    {
      "cell_type": "code",
      "execution_count": null,
      "metadata": {
        "id": "0WmSIjNitL_t"
      },
      "outputs": [],
      "source": [
        "a = freq_df[freq_df.frekanslar > freq_df.frekanslar.mean() + freq_df.frekanslar.std()]"
      ]
    },
    {
      "cell_type": "code",
      "execution_count": null,
      "metadata": {
        "colab": {
          "base_uri": "https://localhost:8080/",
          "height": 351
        },
        "id": "SWY6vvNEtRiD",
        "outputId": "3053d932-0051-4f85-a5c1-c4836f35e033"
      },
      "outputs": [
        {
          "data": {
            "image/png": "[encoded data removed]",
            "text/plain": [
              "<Figure size 432x288 with 1 Axes>"
            ]
          },
          "metadata": {},
          "output_type": "display_data"
        }
      ],
      "source": [
        "a.plot.bar (x = \"kelimeler\", y = \"frekanslar\");"
      ]
    },
    {
      "cell_type": "markdown",
      "metadata": {
        "id": "XhAxwesh1ppL"
      },
      "source": [
        "Word Cloud"
      ]
    },
    {
      "cell_type": "code",
      "execution_count": null,
      "metadata": {
        "colab": {
          "base_uri": "https://localhost:8080/"
        },
        "id": "HuX7Rc8QuAuS",
        "outputId": "96b190a2-c44c-42fe-e76c-e89456a8cba2"
      },
      "outputs": [
        {
          "name": "stdout",
          "output_type": "stream",
          "text": [
            "Looking in indexes: https://pypi.org/simple, https://us-python.pkg.dev/colab-wheels/public/simple/\n",
            "Requirement already satisfied: wordcloud in /usr/local/lib/python3.8/dist-packages (1.8.2.2)\n",
            "Requirement already satisfied: numpy>=1.6.1 in /usr/local/lib/python3.8/dist-packages (from wordcloud) (1.21.6)\n",
            "Requirement already satisfied: matplotlib in /usr/local/lib/python3.8/dist-packages (from wordcloud) (3.2.2)\n",
            "Requirement already satisfied: pillow in /usr/local/lib/python3.8/dist-packages (from wordcloud) (7.1.2)\n",
            "Requirement already satisfied: kiwisolver>=1.0.1 in /usr/local/lib/python3.8/dist-packages (from matplotlib->wordcloud) (1.4.4)\n",
            "Requirement already satisfied: python-dateutil>=2.1 in /usr/local/lib/python3.8/dist-packages (from matplotlib->wordcloud) (2.8.2)\n",
            "Requirement already satisfied: pyparsing!=2.0.4,!=2.1.2,!=2.1.6,>=2.0.1 in /usr/local/lib/python3.8/dist-packages (from matplotlib->wordcloud) (3.0.9)\n",
            "Requirement already satisfied: cycler>=0.10 in /usr/local/lib/python3.8/dist-packages (from matplotlib->wordcloud) (0.11.0)\n",
            "Requirement already satisfied: six>=1.5 in /usr/local/lib/python3.8/dist-packages (from python-dateutil>=2.1->matplotlib->wordcloud) (1.15.0)\n"
          ]
        }
      ],
      "source": [
        "! pip install wordcloud\n",
        "import numpy as np\n",
        "import pandas as pd\n",
        "from os import path\n",
        "from PIL import Image\n",
        "from wordcloud import WordCloud, STOPWORDS, ImageColorGenerator\n",
        "import matplotlib.pyplot as plt"
      ]
    },
    {
      "cell_type": "markdown",
      "metadata": {
        "id": "m0hw1X90viO2"
      },
      "source": [
        "Tweetleri Birleştirme Kodu"
      ]
    },
    {
      "cell_type": "code",
      "execution_count": null,
      "metadata": {
        "id": "hLWSgttNuu7m"
      },
      "outputs": [],
      "source": [
        "all_tweets = \" \".join(i for i in  unwanted)"
      ]
    },
    {
      "cell_type": "code",
      "execution_count": null,
      "metadata": {
        "id": "kbK3hwa8vY45"
      },
      "outputs": [],
      "source": [
        "print(all_tweets)"
      ]
    },
    {
      "cell_type": "code",
      "execution_count": null,
      "metadata": {
        "colab": {
          "base_uri": "https://localhost:8080/",
          "height": 247
        },
        "id": "Pj2GvYnx1y1j",
        "outputId": "48af32a4-b501-4e66-a090-c86bd54d32f7"
      },
      "outputs": [
        {
          "data": {
            "image/png": "[encoded data removed]",
            "text/plain": [
              "<Figure size 432x288 with 1 Axes>"
            ]
          },
          "metadata": {},
          "output_type": "display_data"
        }
      ],
      "source": [
        "wordcloud = WordCloud(background_color=\"white\").generate(all_tweets)\n",
        "plt.imshow(wordcloud, interpolation=\"bilinear\")\n",
        "plt.axis(\"off\")\n",
        "plt.tight_layout(pad = 0)\n",
        "plt.show()"
      ]
    },
    {
      "cell_type": "markdown",
      "metadata": {
        "id": "j5CM3E8mhcHh"
      },
      "source": [
        "# Yeni Bölüm"
      ]
    }
  ],
  "metadata": {
    "colab": {
      "collapsed_sections": [
        "j5CM3E8mhcHh"
      ],
      "provenance": [],
      "mount_file_id": "1jWU1LLg8l2f3WfAMp32mlqLHJlcztQdk",
      "authorship_tag": "ABX9TyM/GvEt5bAXkSj6mOwr8By1",
      "include_colab_link": true
    },
    "kernelspec": {
      "display_name": "Python 3",
      "name": "python3"
    },
    "language_info": {
      "name": "python"
    }
  },
  "nbformat": 4,
  "nbformat_minor": 0
}